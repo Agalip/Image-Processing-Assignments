{
 "cells": [
  {
   "cell_type": "code",
   "execution_count": 1,
   "id": "fbd8bff2",
   "metadata": {},
   "outputs": [],
   "source": [
    "# Lodz University of Technology\n",
    "# 2022-23 Image Processing Assignment 1\n",
    "# @Ahmet Galip Sengun - 904261\n",
    "# October 2022"
   ]
  },
  {
   "cell_type": "markdown",
   "id": "85ff6930",
   "metadata": {},
   "source": [
    "# Task 1"
   ]
  },
  {
   "cell_type": "code",
   "execution_count": 2,
   "id": "d328bb23",
   "metadata": {},
   "outputs": [
    {
     "name": "stdout",
     "output_type": "stream",
     "text": [
      "Using matplotlib backend: <object object at 0x000002B1708F7920>\n"
     ]
    }
   ],
   "source": [
    "import numpy as np\n",
    "%matplotlib auto"
   ]
  },
  {
   "cell_type": "code",
   "execution_count": 3,
   "id": "9fb53adc",
   "metadata": {},
   "outputs": [
    {
     "data": {
      "text/plain": [
       "array([[ 0,  1,  2],\n",
       "       [ 3,  4,  5],\n",
       "       [ 6,  7,  8],\n",
       "       [ 9, 10, 11]])"
      ]
     },
     "execution_count": 3,
     "metadata": {},
     "output_type": "execute_result"
    }
   ],
   "source": [
    "a = np.arange(12).reshape(4,3)\n",
    "a"
   ]
  },
  {
   "cell_type": "code",
   "execution_count": 4,
   "id": "13eedb22",
   "metadata": {},
   "outputs": [
    {
     "data": {
      "text/plain": [
       "array([[ 0,  3,  6,  9],\n",
       "       [ 1,  4,  7, 10],\n",
       "       [ 2,  5,  8, 11]])"
      ]
     },
     "execution_count": 4,
     "metadata": {},
     "output_type": "execute_result"
    }
   ],
   "source": [
    "transposed_a = a.T\n",
    "transposed_a"
   ]
  },
  {
   "cell_type": "markdown",
   "id": "31e9797d",
   "metadata": {},
   "source": [
    "## Horizontal Flip"
   ]
  },
  {
   "cell_type": "code",
   "execution_count": 5,
   "id": "6248742d",
   "metadata": {},
   "outputs": [
    {
     "data": {
      "text/plain": [
       "array([[ 2,  1,  0],\n",
       "       [ 5,  4,  3],\n",
       "       [ 8,  7,  6],\n",
       "       [11, 10,  9]])"
      ]
     },
     "execution_count": 5,
     "metadata": {},
     "output_type": "execute_result"
    }
   ],
   "source": [
    "#horizontal\n",
    "#np.flip(a, 1)\n",
    "horizontal_flipped = a[:,::-1]\n",
    "horizontal_flipped"
   ]
  },
  {
   "cell_type": "markdown",
   "id": "f4a91e41",
   "metadata": {},
   "source": [
    "## Vertical Flip"
   ]
  },
  {
   "cell_type": "code",
   "execution_count": 6,
   "id": "12f7143f",
   "metadata": {},
   "outputs": [
    {
     "data": {
      "text/plain": [
       "array([[ 9, 10, 11],\n",
       "       [ 6,  7,  8],\n",
       "       [ 3,  4,  5],\n",
       "       [ 0,  1,  2]])"
      ]
     },
     "execution_count": 6,
     "metadata": {},
     "output_type": "execute_result"
    }
   ],
   "source": [
    "#vertical\n",
    "#np.flip(a, 0)\n",
    "vertical_flipped = a[::-1,:]\n",
    "vertical_flipped"
   ]
  },
  {
   "cell_type": "markdown",
   "id": "b167e444",
   "metadata": {},
   "source": [
    "## Rotation by 180'"
   ]
  },
  {
   "cell_type": "code",
   "execution_count": 7,
   "id": "bb2231d7",
   "metadata": {},
   "outputs": [
    {
     "data": {
      "text/plain": [
       "array([[11, 10,  9],\n",
       "       [ 8,  7,  6],\n",
       "       [ 5,  4,  3],\n",
       "       [ 2,  1,  0]])"
      ]
     },
     "execution_count": 7,
     "metadata": {},
     "output_type": "execute_result"
    }
   ],
   "source": [
    "#180 degree\n",
    "rotated_180 = a[::-1,::-1]\n",
    "rotated_180"
   ]
  },
  {
   "cell_type": "markdown",
   "id": "1ef6a490",
   "metadata": {},
   "source": [
    "## Rotation by 90' right"
   ]
  },
  {
   "cell_type": "code",
   "execution_count": 8,
   "id": "5489d68b",
   "metadata": {},
   "outputs": [
    {
     "data": {
      "text/plain": [
       "array([[ 9,  6,  3,  0],\n",
       "       [10,  7,  4,  1],\n",
       "       [11,  8,  5,  2]])"
      ]
     },
     "execution_count": 8,
     "metadata": {},
     "output_type": "execute_result"
    }
   ],
   "source": [
    "#90 degrees to the right\n",
    "rotated_90l = rotated_180.T[::-1,:]\n",
    "rotated_90l"
   ]
  },
  {
   "cell_type": "markdown",
   "id": "e9b1f668",
   "metadata": {},
   "source": [
    "## Rotation by 90' left"
   ]
  },
  {
   "cell_type": "code",
   "execution_count": 9,
   "id": "7aff5466",
   "metadata": {},
   "outputs": [
    {
     "data": {
      "text/plain": [
       "array([[ 2,  5,  8, 11],\n",
       "       [ 1,  4,  7, 10],\n",
       "       [ 0,  3,  6,  9]])"
      ]
     },
     "execution_count": 9,
     "metadata": {},
     "output_type": "execute_result"
    }
   ],
   "source": [
    "#90 degrees to the left\n",
    "rotated_90r = a.T[::-1,:]\n",
    "rotated_90r"
   ]
  },
  {
   "cell_type": "markdown",
   "id": "cce47435",
   "metadata": {},
   "source": [
    "## Extend Function\n",
    "\n",
    "returning an extended matrix of size M x M (if M != N) or unchanged matrix (otherwise). In the former case, added parts should be zeroed"
   ]
  },
  {
   "cell_type": "code",
   "execution_count": 10,
   "id": "2f4acb55",
   "metadata": {},
   "outputs": [],
   "source": [
    "def extend(a):\n",
    "    rows, cols = np.shape(a)\n",
    "\n",
    "    if rows == cols:\n",
    "        return a\n",
    "    \n",
    "    elif rows > cols:\n",
    "        diff = rows - cols\n",
    "        \n",
    "        if diff == 1:\n",
    "            zeros = np.zeros(rows).reshape(rows, 1)\n",
    "            new = np.hstack((a, zeros))\n",
    "\n",
    "        else:\n",
    "            zeros = np.zeros(rows*(diff//2)).reshape(rows, (diff//2))\n",
    "            new = np.hstack((a, zeros))\n",
    "            new = np.hstack((zeros, new))\n",
    "            if diff%2 == 1:\n",
    "                zeros = np.zeros(rows).reshape(rows, 1)\n",
    "                new = np.hstack((zeros, new))\n",
    "        \n",
    "    elif cols > rows:\n",
    "        diff = cols - rows\n",
    "        \n",
    "        if diff == 1:\n",
    "            zeros = np.zeros(cols)\n",
    "            new = np.vstack((a, zeros))\n",
    "        else:\n",
    "            zeros = np.zeros(cols*(diff//2)).reshape((diff//2), cols)\n",
    "            new = np.vstack((a, zeros))\n",
    "            new = np.vstack((zeros, new))\n",
    "            if diff%2 == 1:\n",
    "                zeros = np.zeros(cols)\n",
    "                new = np.vstack((new, zeros))\n",
    "           \n",
    "            \n",
    "    return new"
   ]
  },
  {
   "cell_type": "markdown",
   "id": "7aea60b5",
   "metadata": {},
   "source": [
    "### Extend function example"
   ]
  },
  {
   "cell_type": "code",
   "execution_count": 11,
   "id": "b3f15bbb",
   "metadata": {},
   "outputs": [
    {
     "name": "stdout",
     "output_type": "stream",
     "text": [
      "[[ 0.  0.  0.  1.  2.  0.]\n",
      " [ 0.  0.  3.  4.  5.  0.]\n",
      " [ 0.  0.  6.  7.  8.  0.]\n",
      " [ 0.  0.  9. 10. 11.  0.]\n",
      " [ 0.  0. 12. 13. 14.  0.]\n",
      " [ 0.  0. 15. 16. 17.  0.]]\n",
      "(6, 6)\n"
     ]
    }
   ],
   "source": [
    "a = np.arange(18).reshape(6,3)\n",
    "print(extend(a))\n",
    "print(np.shape(extend(a)))"
   ]
  },
  {
   "cell_type": "markdown",
   "id": "66a7c147",
   "metadata": {},
   "source": [
    "## Reduce Function\n",
    "\n",
    "returning a truncated matrix of size N x N (if M != N) or unchanged matrix (otherwise). In the former case  leave exactly N middle columns/rows.\n"
   ]
  },
  {
   "cell_type": "code",
   "execution_count": 12,
   "id": "9b9fc833",
   "metadata": {},
   "outputs": [],
   "source": [
    "def reduce(a):\n",
    "    rows, cols = np.shape(a)\n",
    "    \n",
    "    if rows == cols:\n",
    "        return a\n",
    "    \n",
    "    elif rows > cols:\n",
    "        diff = rows - cols\n",
    "        \n",
    "        if diff == 1:\n",
    "            new = a[1:,]\n",
    "            \n",
    "        elif diff%2 == 0:\n",
    "            new = a[diff//2:-(diff//2),]\n",
    "            \n",
    "        else:\n",
    "            new = a[(diff//2)+1:-(diff//2),]\n",
    "            \n",
    "    else:\n",
    "        diff = cols - rows\n",
    "        \n",
    "        if diff == 1:\n",
    "            new = a[:,1:]\n",
    "            \n",
    "        elif diff%2 == 0:\n",
    "            new = a[:,diff//2:-(diff//2)]\n",
    "            \n",
    "        else:\n",
    "            new = a[:,(diff//2)+1:-(diff//2)]\n",
    "            \n",
    "    \n",
    "    return new"
   ]
  },
  {
   "cell_type": "markdown",
   "id": "40fe9407",
   "metadata": {},
   "source": [
    "### Reduce function example"
   ]
  },
  {
   "cell_type": "code",
   "execution_count": 13,
   "id": "13d60750",
   "metadata": {},
   "outputs": [
    {
     "name": "stdout",
     "output_type": "stream",
     "text": [
      "[[ 3  4  5  6]\n",
      " [13 14 15 16]\n",
      " [23 24 25 26]\n",
      " [33 34 35 36]]\n",
      "(4, 4)\n"
     ]
    }
   ],
   "source": [
    "rows, cols = 4, 10\n",
    "a = np.arange(rows*cols).reshape(rows,cols)\n",
    "print(reduce(a))\n",
    "print(np.shape(reduce(a)))"
   ]
  },
  {
   "cell_type": "markdown",
   "id": "e6f7cf04",
   "metadata": {},
   "source": [
    "# Task 2"
   ]
  },
  {
   "cell_type": "code",
   "execution_count": 14,
   "id": "8e9aac40",
   "metadata": {},
   "outputs": [],
   "source": [
    "import cv2\n",
    "import numpy as np\n",
    "\n",
    "#Load image\n",
    "img = cv2.imread(\"Lena.jpg\")"
   ]
  },
  {
   "cell_type": "code",
   "execution_count": 15,
   "id": "bf16e301",
   "metadata": {},
   "outputs": [
    {
     "data": {
      "text/plain": [
       "(670, 1082, 3)"
      ]
     },
     "execution_count": 15,
     "metadata": {},
     "output_type": "execute_result"
    }
   ],
   "source": [
    "img.shape"
   ]
  },
  {
   "cell_type": "markdown",
   "id": "d835b597",
   "metadata": {},
   "source": [
    "### Display Image"
   ]
  },
  {
   "cell_type": "code",
   "execution_count": 16,
   "id": "2cbbac2d",
   "metadata": {},
   "outputs": [],
   "source": [
    "cv2.imshow(\"Colored image\", img)\n",
    "cv2.waitKey(0)\n",
    "cv2.destroyAllWindows()"
   ]
  },
  {
   "cell_type": "markdown",
   "id": "52a742a6",
   "metadata": {},
   "source": [
    "### Display Grayscale Image"
   ]
  },
  {
   "cell_type": "code",
   "execution_count": 17,
   "id": "c6f341d5",
   "metadata": {},
   "outputs": [],
   "source": [
    "gray = cv2.cvtColor(img, cv2.COLOR_BGR2GRAY)\n",
    "cv2.imshow('Gray image', gray)\n",
    "cv2.waitKey(0)\n",
    "cv2.destroyAllWindows()"
   ]
  },
  {
   "cell_type": "markdown",
   "id": "7a5525df",
   "metadata": {},
   "source": [
    "### Blank Image 640x480"
   ]
  },
  {
   "cell_type": "code",
   "execution_count": 18,
   "id": "243602ca",
   "metadata": {},
   "outputs": [],
   "source": [
    "blank_image = np.zeros((640,480,3), np.uint8)"
   ]
  },
  {
   "cell_type": "code",
   "execution_count": 19,
   "id": "a5297c9b",
   "metadata": {},
   "outputs": [],
   "source": [
    "cv2.imshow(\"blank image\",blank_image)\n",
    "cv2.waitKey(0)\n",
    "cv2.destroyAllWindows()"
   ]
  },
  {
   "cell_type": "markdown",
   "id": "0487c896",
   "metadata": {},
   "source": [
    "### Paste Lena Into the Blank Image"
   ]
  },
  {
   "cell_type": "code",
   "execution_count": 20,
   "id": "e6c0f20a",
   "metadata": {},
   "outputs": [],
   "source": [
    "def fit_into_blank(img, blank_image):\n",
    "    height, width, _ = blank_image.shape\n",
    "    img_height, img_width, _ = img.shape\n",
    "    \n",
    "    width_diff = img_width - width\n",
    "    height_diff = img_height - height\n",
    "    \n",
    "    img = img[height_diff//2:-height_diff//2,width_diff//2:-width_diff//2,:]\n",
    "    \n",
    "    blank_image = cv2.add(blank_image, img)\n",
    "    \n",
    "    return blank_image"
   ]
  },
  {
   "cell_type": "code",
   "execution_count": 21,
   "id": "ae899fc5",
   "metadata": {},
   "outputs": [],
   "source": [
    "new = fit_into_blank(img, blank_image)\n",
    "cv2.imshow('Blank image', new)\n",
    "cv2.waitKey(0)\n",
    "cv2.destroyAllWindows()"
   ]
  },
  {
   "cell_type": "markdown",
   "id": "fbdf5a15",
   "metadata": {},
   "source": [
    "# Task 3"
   ]
  },
  {
   "cell_type": "code",
   "execution_count": 22,
   "id": "7b9f9582",
   "metadata": {},
   "outputs": [],
   "source": [
    "import cv2\n",
    "import numpy as np\n",
    "img = cv2.imread(\"Lena.jpg\")"
   ]
  },
  {
   "cell_type": "code",
   "execution_count": 23,
   "id": "9e574749",
   "metadata": {},
   "outputs": [
    {
     "data": {
      "text/plain": [
       "(670, 1082)"
      ]
     },
     "execution_count": 23,
     "metadata": {},
     "output_type": "execute_result"
    }
   ],
   "source": [
    "width, height, _ = img.shape\n",
    "width, height"
   ]
  },
  {
   "cell_type": "markdown",
   "id": "d636058a",
   "metadata": {},
   "source": [
    "### Crop & Make it Square"
   ]
  },
  {
   "cell_type": "code",
   "execution_count": 24,
   "id": "55e3c572",
   "metadata": {},
   "outputs": [
    {
     "data": {
      "text/plain": [
       "(670, 670, 3)"
      ]
     },
     "execution_count": 24,
     "metadata": {},
     "output_type": "execute_result"
    }
   ],
   "source": [
    "diff = height - width\n",
    "\n",
    "if diff > 0:\n",
    "    square_img = img[:,diff//2:-diff//2,:]\n",
    "else:\n",
    "    diff = -diff\n",
    "    square_img = img[diff//2:-diff//2,:,:]\n",
    "square_img.shape"
   ]
  },
  {
   "cell_type": "code",
   "execution_count": 25,
   "id": "5c3311e6",
   "metadata": {},
   "outputs": [],
   "source": [
    "cv2.imshow('Square image', square_img)\n",
    "cv2.waitKey(0)\n",
    "cv2.destroyAllWindows()"
   ]
  },
  {
   "cell_type": "markdown",
   "id": "f3678981",
   "metadata": {},
   "source": [
    "### Split Image Into Pieces"
   ]
  },
  {
   "cell_type": "code",
   "execution_count": 26,
   "id": "672afe9c",
   "metadata": {},
   "outputs": [],
   "source": [
    "def fix_sizes(img, n_division):\n",
    "    width, _, _ = img.shape\n",
    "    diff = width % n_division\n",
    "    img = img[diff:,diff:,]\n",
    "    return img"
   ]
  },
  {
   "cell_type": "code",
   "execution_count": 27,
   "id": "0d34f3e4",
   "metadata": {},
   "outputs": [
    {
     "data": {
      "text/plain": [
       "(669, 669, 3)"
      ]
     },
     "execution_count": 27,
     "metadata": {},
     "output_type": "execute_result"
    }
   ],
   "source": [
    "#testing the fix_sizes function\n",
    "img_ = fix_sizes(square_img, 3)\n",
    "img_.shape"
   ]
  },
  {
   "cell_type": "code",
   "execution_count": 28,
   "id": "61eb06d3",
   "metadata": {},
   "outputs": [],
   "source": [
    "import random\n",
    "\n",
    "def shuffle_img(img, n):\n",
    "    img = fix_sizes(img, n)\n",
    "    shape = img.shape\n",
    "    \n",
    "    img = fix_sizes(img, n)\n",
    "    \n",
    "    M = img.shape[0]//n\n",
    "    N = img.shape[1]//n\n",
    "    \n",
    "    tiles = [img[x:x+M,y:y+N] for x in range(0,img.shape[0],M) for y in range(0,img.shape[1],N)]\n",
    "    random.shuffle(tiles)\n",
    "    tiles = np.array(tiles)\n",
    "    \n",
    "    h_img = []\n",
    "    for i in range(0, n*n, n):\n",
    "        h_img.append(cv2.hconcat(tiles[i:i+n]))\n",
    "    \n",
    "    v_img = cv2.vconcat(h_img)\n",
    "\n",
    "\n",
    "    \n",
    "    return np.array(v_img)"
   ]
  },
  {
   "cell_type": "markdown",
   "id": "ac6b9416",
   "metadata": {},
   "source": [
    "### Display shuffled image"
   ]
  },
  {
   "cell_type": "code",
   "execution_count": 29,
   "id": "7c61b4ad",
   "metadata": {},
   "outputs": [],
   "source": [
    "n = 7\n",
    "cv2.imshow('Shuffled image', shuffle_img(square_img, n))\n",
    "cv2.waitKey(0)\n",
    "cv2.destroyAllWindows()"
   ]
  },
  {
   "cell_type": "code",
   "execution_count": null,
   "id": "3a86317f",
   "metadata": {},
   "outputs": [],
   "source": []
  }
 ],
 "metadata": {
  "kernelspec": {
   "display_name": "Python 3 (ipykernel)",
   "language": "python",
   "name": "python3"
  },
  "language_info": {
   "codemirror_mode": {
    "name": "ipython",
    "version": 3
   },
   "file_extension": ".py",
   "mimetype": "text/x-python",
   "name": "python",
   "nbconvert_exporter": "python",
   "pygments_lexer": "ipython3",
   "version": "3.9.12"
  }
 },
 "nbformat": 4,
 "nbformat_minor": 5
}
